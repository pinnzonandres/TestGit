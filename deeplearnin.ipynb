{
  "nbformat": 4,
  "nbformat_minor": 0,
  "metadata": {
    "colab": {
      "name": "deeplearnin.ipynb",
      "provenance": []
    },
    "kernelspec": {
      "name": "python3",
      "display_name": "Python 3"
    },
    "accelerator": "GPU"
  },
  "cells": [
    {
      "cell_type": "code",
      "metadata": {
        "id": "cWW3-9Anb-L_",
        "colab_type": "code",
        "colab": {
          "base_uri": "https://localhost:8080/",
          "height": 510
        },
        "outputId": "58904c5d-f21b-46e9-ba8d-4fd006d25da3"
      },
      "source": [
        "!pip install keras-tuner"
      ],
      "execution_count": 2,
      "outputs": [
        {
          "output_type": "stream",
          "text": [
            "Collecting keras-tuner\n",
            "\u001b[?25l  Downloading https://files.pythonhosted.org/packages/a7/f7/4b41b6832abf4c9bef71a664dc563adb25afc5812831667c6db572b1a261/keras-tuner-1.0.1.tar.gz (54kB)\n",
            "\r\u001b[K     |██████                          | 10kB 14.4MB/s eta 0:00:01\r\u001b[K     |████████████                    | 20kB 2.2MB/s eta 0:00:01\r\u001b[K     |██████████████████              | 30kB 2.8MB/s eta 0:00:01\r\u001b[K     |████████████████████████        | 40kB 2.1MB/s eta 0:00:01\r\u001b[K     |██████████████████████████████  | 51kB 2.5MB/s eta 0:00:01\r\u001b[K     |████████████████████████████████| 61kB 2.2MB/s \n",
            "\u001b[?25hRequirement already satisfied: future in /usr/local/lib/python3.6/dist-packages (from keras-tuner) (0.16.0)\n",
            "Requirement already satisfied: numpy in /usr/local/lib/python3.6/dist-packages (from keras-tuner) (1.18.2)\n",
            "Requirement already satisfied: tabulate in /usr/local/lib/python3.6/dist-packages (from keras-tuner) (0.8.7)\n",
            "Collecting terminaltables\n",
            "  Downloading https://files.pythonhosted.org/packages/9b/c4/4a21174f32f8a7e1104798c445dacdc1d4df86f2f26722767034e4de4bff/terminaltables-3.1.0.tar.gz\n",
            "Collecting colorama\n",
            "  Downloading https://files.pythonhosted.org/packages/c9/dc/45cdef1b4d119eb96316b3117e6d5708a08029992b2fee2c143c7a0a5cc5/colorama-0.4.3-py2.py3-none-any.whl\n",
            "Requirement already satisfied: tqdm in /usr/local/lib/python3.6/dist-packages (from keras-tuner) (4.38.0)\n",
            "Requirement already satisfied: requests in /usr/local/lib/python3.6/dist-packages (from keras-tuner) (2.21.0)\n",
            "Requirement already satisfied: scipy in /usr/local/lib/python3.6/dist-packages (from keras-tuner) (1.4.1)\n",
            "Requirement already satisfied: scikit-learn in /usr/local/lib/python3.6/dist-packages (from keras-tuner) (0.22.2.post1)\n",
            "Requirement already satisfied: urllib3<1.25,>=1.21.1 in /usr/local/lib/python3.6/dist-packages (from requests->keras-tuner) (1.24.3)\n",
            "Requirement already satisfied: idna<2.9,>=2.5 in /usr/local/lib/python3.6/dist-packages (from requests->keras-tuner) (2.8)\n",
            "Requirement already satisfied: chardet<3.1.0,>=3.0.2 in /usr/local/lib/python3.6/dist-packages (from requests->keras-tuner) (3.0.4)\n",
            "Requirement already satisfied: certifi>=2017.4.17 in /usr/local/lib/python3.6/dist-packages (from requests->keras-tuner) (2020.4.5.1)\n",
            "Requirement already satisfied: joblib>=0.11 in /usr/local/lib/python3.6/dist-packages (from scikit-learn->keras-tuner) (0.14.1)\n",
            "Building wheels for collected packages: keras-tuner, terminaltables\n",
            "  Building wheel for keras-tuner (setup.py) ... \u001b[?25l\u001b[?25hdone\n",
            "  Created wheel for keras-tuner: filename=keras_tuner-1.0.1-cp36-none-any.whl size=73200 sha256=cdad67d712ed8958ab9164daea440f4b799a05e5eba54e796176c9371543e2ca\n",
            "  Stored in directory: /root/.cache/pip/wheels/b9/cc/62/52716b70dd90f3db12519233c3a93a5360bc672da1a10ded43\n",
            "  Building wheel for terminaltables (setup.py) ... \u001b[?25l\u001b[?25hdone\n",
            "  Created wheel for terminaltables: filename=terminaltables-3.1.0-cp36-none-any.whl size=15356 sha256=2608ba06c738d61ed74d840eceecc2b77bb8dbddaf6a3b82e56dc4d5f973641b\n",
            "  Stored in directory: /root/.cache/pip/wheels/30/6b/50/6c75775b681fb36cdfac7f19799888ef9d8813aff9e379663e\n",
            "Successfully built keras-tuner terminaltables\n",
            "Installing collected packages: terminaltables, colorama, keras-tuner\n",
            "Successfully installed colorama-0.4.3 keras-tuner-1.0.1 terminaltables-3.1.0\n"
          ],
          "name": "stdout"
        }
      ]
    },
    {
      "cell_type": "code",
      "metadata": {
        "id": "CqbnWaL5dIwZ",
        "colab_type": "code",
        "colab": {
          "base_uri": "https://localhost:8080/",
          "height": 1000
        },
        "outputId": "6a7209ef-83fc-4c16-f65a-fe59f4733f57"
      },
      "source": [
        "import numpy as np\n",
        "import tensorflow as tf\n",
        "from tensorflow import keras\n",
        "from keras.datasets import cifar10\n",
        "from keras.utils import np_utils\n",
        "from tensorflow.keras.callbacks import TensorBoard\n",
        "from tensorflow import keras\n",
        "from tensorflow.keras.layers import Conv2D, MaxPooling2D, Dense, Flatten, Activation\n",
        "from tensorflow.keras import layers\n",
        "from kerastuner.tuners import RandomSearch\n",
        "from kerastuner.engine.hyperparameters import HyperParameters\n",
        "import time\n",
        "import pickle\n",
        "\n",
        "\n",
        "LOG_DIR = f\"{int(time.time())}\"\n",
        "\n",
        "tensorboard = TensorBoard(log_dir=LOG_DIR)\n",
        "\n",
        "def normalize(x):\n",
        "    min_val = np.min(x)\n",
        "    max_val = np.max(x)\n",
        "    x = (x-min_val) / (max_val-min_val)\n",
        "    return x\n",
        "\n",
        "# Hight and width of the images\n",
        "IMAGE_SIZE = 32\n",
        "# 3 channels, Red, Green and Blue\n",
        "CHANNELS = 3\n",
        "# Number of epochs\n",
        "NUM_EPOCH = 10\n",
        "\n",
        "\n",
        "# load data\n",
        "(X_train, y_train), (X_test, y_test) = cifar10.load_data()\n",
        "\n",
        "\n",
        "X_train = X_train.astype('float32')\n",
        "X_test = X_test.astype('float32')\n",
        "X_train = normalize(X_train)\n",
        "X_test = normalize(X_test)\n",
        "X_train = X_train.reshape(-1,32, 32, 3)  # reshaping for convnet\n",
        "\n",
        "\n",
        "y_train = np_utils.to_categorical(y_train)\n",
        "y_test = np_utils.to_categorical(y_test)\n",
        "num_classes = y_test.shape[1]\n",
        "def build_model(hp):  # random search passes this hyperparameter() object \n",
        "    model = keras.models.Sequential()\n",
        "\n",
        "    model.add(Conv2D(hp.Int('input_units',\n",
        "                                min_value=32,\n",
        "                                max_value=256,\n",
        "                                step=32), (3, 3), input_shape=X_train.shape[1:]))\n",
        "\n",
        "    model.add(Activation('relu'))\n",
        "    model.add(MaxPooling2D(pool_size=(2, 2)))\n",
        "\n",
        "    for i in range(hp.Int('n_layers', 1, 4)):  # adding variation of layers.\n",
        "        model.add(Conv2D(hp.Int(f'conv_{i}_units',\n",
        "                                min_value=32,\n",
        "                                max_value=256,\n",
        "                                step=32), (3, 3)))\n",
        "        model.add(Activation('relu'))\n",
        "    model.add(MaxPooling2D(pool_size=(2, 2)))\n",
        "\n",
        "    model.add(Flatten())\n",
        "    for i in range(hp.Int('n_connections', 1, 4)):\n",
        "        model.add(Dense(hp.Choice(f'n_nodes',\n",
        "                                  values=[128, 256, 512, 1024])))\n",
        "        model.add(Activation('relu'))\n",
        "    model.add(Dense(10))\n",
        "    model.add(Activation(\"softmax\"))\n",
        "\n",
        "    model.compile(optimizer=\"adam\",\n",
        "                  loss=\"categorical_crossentropy\",\n",
        "                  metrics=[\"accuracy\"])\n",
        "\n",
        "    return model\n",
        "    \n",
        "tuner = RandomSearch(\n",
        "    build_model,\n",
        "    objective='val_accuracy',\n",
        "    max_trials=5,  # how many model variations to test?\n",
        "    executions_per_trial=3,  # how many trials per variation? (same model could perform differently)\n",
        "    directory='Parcial_DeepLearning',\n",
        "    project_name='Prueba_2')\n",
        "\n",
        "tuner.search_space_summary()\n",
        "\n",
        "tuner.search(x=X_train,\n",
        "             y=y_train,\n",
        "             epochs=100,\n",
        "             batch_size=32,\n",
        "             validation_data=(X_test, y_test))\n",
        "\n",
        "print(tuner.get_best_models()[0].summary())\n",
        "print(tuner.get_best_hyperparameters()[0].values)\n",
        "\n",
        "model = tuner.get_best_models(num_models=1)[0]\n",
        "print (model.summary())\n",
        "# Evaluate the best model.\n",
        "loss, accuracy = model.evaluate(X_test, y_test)\n",
        "print('loss:', loss)\n",
        "print('accuracy:', accuracy)\n",
        "model.save('prueba1.h5')\n"
      ],
      "execution_count": 18,
      "outputs": [
        {
          "output_type": "stream",
          "text": [
            "INFO:tensorflow:Reloading Oracle from existing project Parcial_DeepLearning/Prueba_2/oracle.json\n",
            "INFO:tensorflow:Reloading Tuner from Parcial_DeepLearning/Prueba_2/tuner0.json\n"
          ],
          "name": "stdout"
        },
        {
          "output_type": "display_data",
          "data": {
            "text/html": [
              "<span style=\"color:#4527A0\"><h1 style=\"font-size:18px\">Search space summary</h1></span>"
            ],
            "text/plain": [
              "<IPython.core.display.HTML object>"
            ]
          },
          "metadata": {
            "tags": []
          }
        },
        {
          "output_type": "display_data",
          "data": {
            "text/html": [
              "<span style=\"color:cyan\"> |-Default search space size: 8</span>"
            ],
            "text/plain": [
              "<IPython.core.display.HTML object>"
            ]
          },
          "metadata": {
            "tags": []
          }
        },
        {
          "output_type": "display_data",
          "data": {
            "text/html": [
              "<span style=\"color:#7E57C2\"><h2 style=\"font-size:16px\">input_units (Int)</h2></span>"
            ],
            "text/plain": [
              "<IPython.core.display.HTML object>"
            ]
          },
          "metadata": {
            "tags": []
          }
        },
        {
          "output_type": "display_data",
          "data": {
            "text/html": [
              "<span style=\"color:cyan\"> |-default: None</span>"
            ],
            "text/plain": [
              "<IPython.core.display.HTML object>"
            ]
          },
          "metadata": {
            "tags": []
          }
        },
        {
          "output_type": "display_data",
          "data": {
            "text/html": [
              "<span style=\"color:blue\"> |-max_value: 256</span>"
            ],
            "text/plain": [
              "<IPython.core.display.HTML object>"
            ]
          },
          "metadata": {
            "tags": []
          }
        },
        {
          "output_type": "display_data",
          "data": {
            "text/html": [
              "<span style=\"color:cyan\"> |-min_value: 32</span>"
            ],
            "text/plain": [
              "<IPython.core.display.HTML object>"
            ]
          },
          "metadata": {
            "tags": []
          }
        },
        {
          "output_type": "display_data",
          "data": {
            "text/html": [
              "<span style=\"color:blue\"> |-sampling: None</span>"
            ],
            "text/plain": [
              "<IPython.core.display.HTML object>"
            ]
          },
          "metadata": {
            "tags": []
          }
        },
        {
          "output_type": "display_data",
          "data": {
            "text/html": [
              "<span style=\"color:cyan\"> |-step: 32</span>"
            ],
            "text/plain": [
              "<IPython.core.display.HTML object>"
            ]
          },
          "metadata": {
            "tags": []
          }
        },
        {
          "output_type": "display_data",
          "data": {
            "text/html": [
              "<span style=\"color:#7E57C2\"><h2 style=\"font-size:16px\">n_layers (Int)</h2></span>"
            ],
            "text/plain": [
              "<IPython.core.display.HTML object>"
            ]
          },
          "metadata": {
            "tags": []
          }
        },
        {
          "output_type": "display_data",
          "data": {
            "text/html": [
              "<span style=\"color:cyan\"> |-default: None</span>"
            ],
            "text/plain": [
              "<IPython.core.display.HTML object>"
            ]
          },
          "metadata": {
            "tags": []
          }
        },
        {
          "output_type": "display_data",
          "data": {
            "text/html": [
              "<span style=\"color:blue\"> |-max_value: 4</span>"
            ],
            "text/plain": [
              "<IPython.core.display.HTML object>"
            ]
          },
          "metadata": {
            "tags": []
          }
        },
        {
          "output_type": "display_data",
          "data": {
            "text/html": [
              "<span style=\"color:cyan\"> |-min_value: 1</span>"
            ],
            "text/plain": [
              "<IPython.core.display.HTML object>"
            ]
          },
          "metadata": {
            "tags": []
          }
        },
        {
          "output_type": "display_data",
          "data": {
            "text/html": [
              "<span style=\"color:blue\"> |-sampling: None</span>"
            ],
            "text/plain": [
              "<IPython.core.display.HTML object>"
            ]
          },
          "metadata": {
            "tags": []
          }
        },
        {
          "output_type": "display_data",
          "data": {
            "text/html": [
              "<span style=\"color:cyan\"> |-step: 1</span>"
            ],
            "text/plain": [
              "<IPython.core.display.HTML object>"
            ]
          },
          "metadata": {
            "tags": []
          }
        },
        {
          "output_type": "display_data",
          "data": {
            "text/html": [
              "<span style=\"color:#7E57C2\"><h2 style=\"font-size:16px\">conv_0_units (Int)</h2></span>"
            ],
            "text/plain": [
              "<IPython.core.display.HTML object>"
            ]
          },
          "metadata": {
            "tags": []
          }
        },
        {
          "output_type": "display_data",
          "data": {
            "text/html": [
              "<span style=\"color:cyan\"> |-default: None</span>"
            ],
            "text/plain": [
              "<IPython.core.display.HTML object>"
            ]
          },
          "metadata": {
            "tags": []
          }
        },
        {
          "output_type": "display_data",
          "data": {
            "text/html": [
              "<span style=\"color:blue\"> |-max_value: 256</span>"
            ],
            "text/plain": [
              "<IPython.core.display.HTML object>"
            ]
          },
          "metadata": {
            "tags": []
          }
        },
        {
          "output_type": "display_data",
          "data": {
            "text/html": [
              "<span style=\"color:cyan\"> |-min_value: 32</span>"
            ],
            "text/plain": [
              "<IPython.core.display.HTML object>"
            ]
          },
          "metadata": {
            "tags": []
          }
        },
        {
          "output_type": "display_data",
          "data": {
            "text/html": [
              "<span style=\"color:blue\"> |-sampling: None</span>"
            ],
            "text/plain": [
              "<IPython.core.display.HTML object>"
            ]
          },
          "metadata": {
            "tags": []
          }
        },
        {
          "output_type": "display_data",
          "data": {
            "text/html": [
              "<span style=\"color:cyan\"> |-step: 32</span>"
            ],
            "text/plain": [
              "<IPython.core.display.HTML object>"
            ]
          },
          "metadata": {
            "tags": []
          }
        },
        {
          "output_type": "display_data",
          "data": {
            "text/html": [
              "<span style=\"color:#7E57C2\"><h2 style=\"font-size:16px\">n_connections (Int)</h2></span>"
            ],
            "text/plain": [
              "<IPython.core.display.HTML object>"
            ]
          },
          "metadata": {
            "tags": []
          }
        },
        {
          "output_type": "display_data",
          "data": {
            "text/html": [
              "<span style=\"color:cyan\"> |-default: None</span>"
            ],
            "text/plain": [
              "<IPython.core.display.HTML object>"
            ]
          },
          "metadata": {
            "tags": []
          }
        },
        {
          "output_type": "display_data",
          "data": {
            "text/html": [
              "<span style=\"color:blue\"> |-max_value: 4</span>"
            ],
            "text/plain": [
              "<IPython.core.display.HTML object>"
            ]
          },
          "metadata": {
            "tags": []
          }
        },
        {
          "output_type": "display_data",
          "data": {
            "text/html": [
              "<span style=\"color:cyan\"> |-min_value: 1</span>"
            ],
            "text/plain": [
              "<IPython.core.display.HTML object>"
            ]
          },
          "metadata": {
            "tags": []
          }
        },
        {
          "output_type": "display_data",
          "data": {
            "text/html": [
              "<span style=\"color:blue\"> |-sampling: None</span>"
            ],
            "text/plain": [
              "<IPython.core.display.HTML object>"
            ]
          },
          "metadata": {
            "tags": []
          }
        },
        {
          "output_type": "display_data",
          "data": {
            "text/html": [
              "<span style=\"color:cyan\"> |-step: 1</span>"
            ],
            "text/plain": [
              "<IPython.core.display.HTML object>"
            ]
          },
          "metadata": {
            "tags": []
          }
        },
        {
          "output_type": "display_data",
          "data": {
            "text/html": [
              "<span style=\"color:#7E57C2\"><h2 style=\"font-size:16px\">n_nodes (Choice)</h2></span>"
            ],
            "text/plain": [
              "<IPython.core.display.HTML object>"
            ]
          },
          "metadata": {
            "tags": []
          }
        },
        {
          "output_type": "display_data",
          "data": {
            "text/html": [
              "<span style=\"color:cyan\"> |-default: 128</span>"
            ],
            "text/plain": [
              "<IPython.core.display.HTML object>"
            ]
          },
          "metadata": {
            "tags": []
          }
        },
        {
          "output_type": "display_data",
          "data": {
            "text/html": [
              "<span style=\"color:blue\"> |-ordered: True</span>"
            ],
            "text/plain": [
              "<IPython.core.display.HTML object>"
            ]
          },
          "metadata": {
            "tags": []
          }
        },
        {
          "output_type": "display_data",
          "data": {
            "text/html": [
              "<span style=\"color:cyan\"> |-values: [128, 256, 512, 1024]</span>"
            ],
            "text/plain": [
              "<IPython.core.display.HTML object>"
            ]
          },
          "metadata": {
            "tags": []
          }
        },
        {
          "output_type": "display_data",
          "data": {
            "text/html": [
              "<span style=\"color:#7E57C2\"><h2 style=\"font-size:16px\">conv_1_units (Int)</h2></span>"
            ],
            "text/plain": [
              "<IPython.core.display.HTML object>"
            ]
          },
          "metadata": {
            "tags": []
          }
        },
        {
          "output_type": "display_data",
          "data": {
            "text/html": [
              "<span style=\"color:cyan\"> |-default: None</span>"
            ],
            "text/plain": [
              "<IPython.core.display.HTML object>"
            ]
          },
          "metadata": {
            "tags": []
          }
        },
        {
          "output_type": "display_data",
          "data": {
            "text/html": [
              "<span style=\"color:blue\"> |-max_value: 256</span>"
            ],
            "text/plain": [
              "<IPython.core.display.HTML object>"
            ]
          },
          "metadata": {
            "tags": []
          }
        },
        {
          "output_type": "display_data",
          "data": {
            "text/html": [
              "<span style=\"color:cyan\"> |-min_value: 32</span>"
            ],
            "text/plain": [
              "<IPython.core.display.HTML object>"
            ]
          },
          "metadata": {
            "tags": []
          }
        },
        {
          "output_type": "display_data",
          "data": {
            "text/html": [
              "<span style=\"color:blue\"> |-sampling: None</span>"
            ],
            "text/plain": [
              "<IPython.core.display.HTML object>"
            ]
          },
          "metadata": {
            "tags": []
          }
        },
        {
          "output_type": "display_data",
          "data": {
            "text/html": [
              "<span style=\"color:cyan\"> |-step: 32</span>"
            ],
            "text/plain": [
              "<IPython.core.display.HTML object>"
            ]
          },
          "metadata": {
            "tags": []
          }
        },
        {
          "output_type": "display_data",
          "data": {
            "text/html": [
              "<span style=\"color:#7E57C2\"><h2 style=\"font-size:16px\">conv_2_units (Int)</h2></span>"
            ],
            "text/plain": [
              "<IPython.core.display.HTML object>"
            ]
          },
          "metadata": {
            "tags": []
          }
        },
        {
          "output_type": "display_data",
          "data": {
            "text/html": [
              "<span style=\"color:cyan\"> |-default: None</span>"
            ],
            "text/plain": [
              "<IPython.core.display.HTML object>"
            ]
          },
          "metadata": {
            "tags": []
          }
        },
        {
          "output_type": "display_data",
          "data": {
            "text/html": [
              "<span style=\"color:blue\"> |-max_value: 256</span>"
            ],
            "text/plain": [
              "<IPython.core.display.HTML object>"
            ]
          },
          "metadata": {
            "tags": []
          }
        },
        {
          "output_type": "display_data",
          "data": {
            "text/html": [
              "<span style=\"color:cyan\"> |-min_value: 32</span>"
            ],
            "text/plain": [
              "<IPython.core.display.HTML object>"
            ]
          },
          "metadata": {
            "tags": []
          }
        },
        {
          "output_type": "display_data",
          "data": {
            "text/html": [
              "<span style=\"color:blue\"> |-sampling: None</span>"
            ],
            "text/plain": [
              "<IPython.core.display.HTML object>"
            ]
          },
          "metadata": {
            "tags": []
          }
        },
        {
          "output_type": "display_data",
          "data": {
            "text/html": [
              "<span style=\"color:cyan\"> |-step: 32</span>"
            ],
            "text/plain": [
              "<IPython.core.display.HTML object>"
            ]
          },
          "metadata": {
            "tags": []
          }
        },
        {
          "output_type": "display_data",
          "data": {
            "text/html": [
              "<span style=\"color:#7E57C2\"><h2 style=\"font-size:16px\">conv_3_units (Int)</h2></span>"
            ],
            "text/plain": [
              "<IPython.core.display.HTML object>"
            ]
          },
          "metadata": {
            "tags": []
          }
        },
        {
          "output_type": "display_data",
          "data": {
            "text/html": [
              "<span style=\"color:cyan\"> |-default: None</span>"
            ],
            "text/plain": [
              "<IPython.core.display.HTML object>"
            ]
          },
          "metadata": {
            "tags": []
          }
        },
        {
          "output_type": "display_data",
          "data": {
            "text/html": [
              "<span style=\"color:blue\"> |-max_value: 256</span>"
            ],
            "text/plain": [
              "<IPython.core.display.HTML object>"
            ]
          },
          "metadata": {
            "tags": []
          }
        },
        {
          "output_type": "display_data",
          "data": {
            "text/html": [
              "<span style=\"color:cyan\"> |-min_value: 32</span>"
            ],
            "text/plain": [
              "<IPython.core.display.HTML object>"
            ]
          },
          "metadata": {
            "tags": []
          }
        },
        {
          "output_type": "display_data",
          "data": {
            "text/html": [
              "<span style=\"color:blue\"> |-sampling: None</span>"
            ],
            "text/plain": [
              "<IPython.core.display.HTML object>"
            ]
          },
          "metadata": {
            "tags": []
          }
        },
        {
          "output_type": "display_data",
          "data": {
            "text/html": [
              "<span style=\"color:cyan\"> |-step: 32</span>"
            ],
            "text/plain": [
              "<IPython.core.display.HTML object>"
            ]
          },
          "metadata": {
            "tags": []
          }
        },
        {
          "output_type": "stream",
          "text": [
            "INFO:tensorflow:Oracle triggered exit\n",
            "Model: \"sequential\"\n",
            "_________________________________________________________________\n",
            "Layer (type)                 Output Shape              Param #   \n",
            "=================================================================\n",
            "conv2d (Conv2D)              (None, 30, 30, 192)       5376      \n",
            "_________________________________________________________________\n",
            "activation (Activation)      (None, 30, 30, 192)       0         \n",
            "_________________________________________________________________\n",
            "max_pooling2d (MaxPooling2D) (None, 15, 15, 192)       0         \n",
            "_________________________________________________________________\n",
            "conv2d_1 (Conv2D)            (None, 13, 13, 224)       387296    \n",
            "_________________________________________________________________\n",
            "activation_1 (Activation)    (None, 13, 13, 224)       0         \n",
            "_________________________________________________________________\n",
            "conv2d_2 (Conv2D)            (None, 11, 11, 192)       387264    \n",
            "_________________________________________________________________\n",
            "activation_2 (Activation)    (None, 11, 11, 192)       0         \n",
            "_________________________________________________________________\n",
            "conv2d_3 (Conv2D)            (None, 9, 9, 192)         331968    \n",
            "_________________________________________________________________\n",
            "activation_3 (Activation)    (None, 9, 9, 192)         0         \n",
            "_________________________________________________________________\n",
            "max_pooling2d_1 (MaxPooling2 (None, 4, 4, 192)         0         \n",
            "_________________________________________________________________\n",
            "flatten (Flatten)            (None, 3072)              0         \n",
            "_________________________________________________________________\n",
            "dense (Dense)                (None, 128)               393344    \n",
            "_________________________________________________________________\n",
            "activation_4 (Activation)    (None, 128)               0         \n",
            "_________________________________________________________________\n",
            "dense_1 (Dense)              (None, 10)                1290      \n",
            "_________________________________________________________________\n",
            "activation_5 (Activation)    (None, 10)                0         \n",
            "=================================================================\n",
            "Total params: 1,506,538\n",
            "Trainable params: 1,506,538\n",
            "Non-trainable params: 0\n",
            "_________________________________________________________________\n",
            "None\n",
            "{'input_units': 192, 'n_layers': 3, 'conv_0_units': 224, 'n_connections': 1, 'n_nodes': 128, 'conv_1_units': 192, 'conv_2_units': 192}\n",
            "WARNING:tensorflow:Unresolved object in checkpoint: (root).optimizer.iter\n",
            "WARNING:tensorflow:Unresolved object in checkpoint: (root).optimizer.beta_1\n",
            "WARNING:tensorflow:Unresolved object in checkpoint: (root).optimizer.beta_2\n",
            "WARNING:tensorflow:Unresolved object in checkpoint: (root).optimizer.decay\n",
            "WARNING:tensorflow:Unresolved object in checkpoint: (root).optimizer.learning_rate\n",
            "WARNING:tensorflow:A checkpoint was restored (e.g. tf.train.Checkpoint.restore or tf.keras.Model.load_weights) but not all checkpointed values were used. See above for specific issues. Use expect_partial() on the load status object, e.g. tf.train.Checkpoint.restore(...).expect_partial(), to silence these warnings, or use assert_consumed() to make the check explicit. See https://www.tensorflow.org/guide/checkpoint#loading_mechanics for details.\n",
            "Model: \"sequential\"\n",
            "_________________________________________________________________\n",
            "Layer (type)                 Output Shape              Param #   \n",
            "=================================================================\n",
            "conv2d (Conv2D)              (None, 30, 30, 192)       5376      \n",
            "_________________________________________________________________\n",
            "activation (Activation)      (None, 30, 30, 192)       0         \n",
            "_________________________________________________________________\n",
            "max_pooling2d (MaxPooling2D) (None, 15, 15, 192)       0         \n",
            "_________________________________________________________________\n",
            "conv2d_1 (Conv2D)            (None, 13, 13, 224)       387296    \n",
            "_________________________________________________________________\n",
            "activation_1 (Activation)    (None, 13, 13, 224)       0         \n",
            "_________________________________________________________________\n",
            "conv2d_2 (Conv2D)            (None, 11, 11, 192)       387264    \n",
            "_________________________________________________________________\n",
            "activation_2 (Activation)    (None, 11, 11, 192)       0         \n",
            "_________________________________________________________________\n",
            "conv2d_3 (Conv2D)            (None, 9, 9, 192)         331968    \n",
            "_________________________________________________________________\n",
            "activation_3 (Activation)    (None, 9, 9, 192)         0         \n",
            "_________________________________________________________________\n",
            "max_pooling2d_1 (MaxPooling2 (None, 4, 4, 192)         0         \n",
            "_________________________________________________________________\n",
            "flatten (Flatten)            (None, 3072)              0         \n",
            "_________________________________________________________________\n",
            "dense (Dense)                (None, 128)               393344    \n",
            "_________________________________________________________________\n",
            "activation_4 (Activation)    (None, 128)               0         \n",
            "_________________________________________________________________\n",
            "dense_1 (Dense)              (None, 10)                1290      \n",
            "_________________________________________________________________\n",
            "activation_5 (Activation)    (None, 10)                0         \n",
            "=================================================================\n",
            "Total params: 1,506,538\n",
            "Trainable params: 1,506,538\n",
            "Non-trainable params: 0\n",
            "_________________________________________________________________\n",
            "None\n",
            "313/313 [==============================] - 1s 4ms/step - loss: 0.9043 - accuracy: 0.7305\n",
            "loss: 0.9043102264404297\n",
            "accuracy: 0.7304999828338623\n"
          ],
          "name": "stdout"
        }
      ]
    },
    {
      "cell_type": "code",
      "metadata": {
        "id": "73-Pw_gk67VZ",
        "colab_type": "code",
        "colab": {
          "base_uri": "https://localhost:8080/",
          "height": 1000
        },
        "outputId": "f2c954fe-c9da-49ff-c005-6baca3d43b77"
      },
      "source": [
        "model.fit(X_train,y_train,batch_size=64,epochs= 100, validation_data=(X_test,y_test))\n",
        "score = model.evaluate(X_test, y_test, verbose=0)\n",
        "print('Test loss:', score[0])\n",
        "print('Test accuracy:', score[1])\n",
        "model.save('Fitmodel.h5')"
      ],
      "execution_count": 24,
      "outputs": [
        {
          "output_type": "stream",
          "text": [
            "Epoch 1/100\n",
            "782/782 [==============================] - 10s 12ms/step - loss: 0.0485 - accuracy: 0.9920 - val_loss: 7.1393 - val_accuracy: 0.7156\n",
            "Epoch 2/100\n",
            "782/782 [==============================] - 10s 12ms/step - loss: 0.0689 - accuracy: 0.9900 - val_loss: 7.4231 - val_accuracy: 0.7097\n",
            "Epoch 3/100\n",
            "782/782 [==============================] - 9s 12ms/step - loss: 0.0562 - accuracy: 0.9905 - val_loss: 7.6098 - val_accuracy: 0.7114\n",
            "Epoch 4/100\n",
            "782/782 [==============================] - 10s 12ms/step - loss: 0.0557 - accuracy: 0.9913 - val_loss: 7.5002 - val_accuracy: 0.7101\n",
            "Epoch 5/100\n",
            "782/782 [==============================] - 9s 12ms/step - loss: 0.0481 - accuracy: 0.9924 - val_loss: 7.9152 - val_accuracy: 0.7125\n",
            "Epoch 6/100\n",
            "782/782 [==============================] - 9s 12ms/step - loss: 0.0471 - accuracy: 0.9931 - val_loss: 8.1222 - val_accuracy: 0.7081\n",
            "Epoch 7/100\n",
            "782/782 [==============================] - 9s 12ms/step - loss: 0.0515 - accuracy: 0.9921 - val_loss: 7.5510 - val_accuracy: 0.7142\n",
            "Epoch 8/100\n",
            "782/782 [==============================] - 10s 12ms/step - loss: 0.0505 - accuracy: 0.9927 - val_loss: 7.5915 - val_accuracy: 0.7057\n",
            "Epoch 9/100\n",
            "782/782 [==============================] - 9s 12ms/step - loss: 0.0751 - accuracy: 0.9896 - val_loss: 7.8212 - val_accuracy: 0.7085\n",
            "Epoch 10/100\n",
            "782/782 [==============================] - 9s 12ms/step - loss: 0.0517 - accuracy: 0.9918 - val_loss: 7.8923 - val_accuracy: 0.7078\n",
            "Epoch 11/100\n",
            "782/782 [==============================] - 9s 12ms/step - loss: 0.0532 - accuracy: 0.9922 - val_loss: 8.2581 - val_accuracy: 0.7057\n",
            "Epoch 12/100\n",
            "782/782 [==============================] - 10s 12ms/step - loss: 0.0589 - accuracy: 0.9921 - val_loss: 7.8319 - val_accuracy: 0.7157\n",
            "Epoch 13/100\n",
            "782/782 [==============================] - 10s 12ms/step - loss: 0.0508 - accuracy: 0.9923 - val_loss: 8.8140 - val_accuracy: 0.7008\n",
            "Epoch 14/100\n",
            "782/782 [==============================] - 9s 12ms/step - loss: 0.0728 - accuracy: 0.9902 - val_loss: 7.6704 - val_accuracy: 0.7158\n",
            "Epoch 15/100\n",
            "782/782 [==============================] - 9s 12ms/step - loss: 0.0504 - accuracy: 0.9924 - val_loss: 8.2113 - val_accuracy: 0.7051\n",
            "Epoch 16/100\n",
            "782/782 [==============================] - 9s 12ms/step - loss: 0.0502 - accuracy: 0.9921 - val_loss: 8.0986 - val_accuracy: 0.7141\n",
            "Epoch 17/100\n",
            "782/782 [==============================] - 9s 12ms/step - loss: 0.0657 - accuracy: 0.9906 - val_loss: 8.1456 - val_accuracy: 0.7006\n",
            "Epoch 18/100\n",
            "782/782 [==============================] - 9s 12ms/step - loss: 0.0568 - accuracy: 0.9910 - val_loss: 8.2653 - val_accuracy: 0.7137\n",
            "Epoch 19/100\n",
            "782/782 [==============================] - 9s 12ms/step - loss: 0.0418 - accuracy: 0.9934 - val_loss: 8.4926 - val_accuracy: 0.7064\n",
            "Epoch 20/100\n",
            "782/782 [==============================] - 9s 12ms/step - loss: 0.0630 - accuracy: 0.9913 - val_loss: 8.7470 - val_accuracy: 0.7069\n",
            "Epoch 21/100\n",
            "782/782 [==============================] - 9s 12ms/step - loss: 0.0763 - accuracy: 0.9903 - val_loss: 8.3762 - val_accuracy: 0.7045\n",
            "Epoch 22/100\n",
            "782/782 [==============================] - 10s 12ms/step - loss: 0.0635 - accuracy: 0.9916 - val_loss: 9.0526 - val_accuracy: 0.7075\n",
            "Epoch 23/100\n",
            "782/782 [==============================] - 9s 12ms/step - loss: 0.0512 - accuracy: 0.9930 - val_loss: 8.5924 - val_accuracy: 0.7092\n",
            "Epoch 24/100\n",
            "782/782 [==============================] - 9s 12ms/step - loss: 0.0458 - accuracy: 0.9934 - val_loss: 8.4263 - val_accuracy: 0.7144\n",
            "Epoch 25/100\n",
            "782/782 [==============================] - 9s 12ms/step - loss: 0.0587 - accuracy: 0.9916 - val_loss: 8.8521 - val_accuracy: 0.7099\n",
            "Epoch 26/100\n",
            "782/782 [==============================] - 9s 12ms/step - loss: 0.0754 - accuracy: 0.9901 - val_loss: 8.6582 - val_accuracy: 0.7121\n",
            "Epoch 27/100\n",
            "782/782 [==============================] - 9s 12ms/step - loss: 0.0428 - accuracy: 0.9932 - val_loss: 9.1354 - val_accuracy: 0.7020\n",
            "Epoch 28/100\n",
            "782/782 [==============================] - 9s 12ms/step - loss: 0.0694 - accuracy: 0.9909 - val_loss: 8.1831 - val_accuracy: 0.7035\n",
            "Epoch 29/100\n",
            "782/782 [==============================] - 9s 12ms/step - loss: 0.0597 - accuracy: 0.9919 - val_loss: 8.2890 - val_accuracy: 0.7101\n",
            "Epoch 30/100\n",
            "782/782 [==============================] - 10s 12ms/step - loss: 0.0663 - accuracy: 0.9908 - val_loss: 8.4710 - val_accuracy: 0.7047\n",
            "Epoch 31/100\n",
            "782/782 [==============================] - 9s 12ms/step - loss: 0.0465 - accuracy: 0.9932 - val_loss: 9.0556 - val_accuracy: 0.7093\n",
            "Epoch 32/100\n",
            "782/782 [==============================] - 9s 12ms/step - loss: 0.0563 - accuracy: 0.9922 - val_loss: 9.0409 - val_accuracy: 0.7067\n",
            "Epoch 33/100\n",
            "782/782 [==============================] - 9s 12ms/step - loss: 0.0636 - accuracy: 0.9914 - val_loss: 9.1329 - val_accuracy: 0.7118\n",
            "Epoch 34/100\n",
            "782/782 [==============================] - 10s 12ms/step - loss: 0.0649 - accuracy: 0.9921 - val_loss: 10.2190 - val_accuracy: 0.6926\n",
            "Epoch 35/100\n",
            "782/782 [==============================] - 10s 12ms/step - loss: 0.0670 - accuracy: 0.9912 - val_loss: 9.5021 - val_accuracy: 0.7062\n",
            "Epoch 36/100\n",
            "782/782 [==============================] - 9s 12ms/step - loss: 0.0598 - accuracy: 0.9924 - val_loss: 9.4735 - val_accuracy: 0.7013\n",
            "Epoch 37/100\n",
            "782/782 [==============================] - 9s 12ms/step - loss: 0.0633 - accuracy: 0.9919 - val_loss: 8.9789 - val_accuracy: 0.7058\n",
            "Epoch 38/100\n",
            "782/782 [==============================] - 9s 12ms/step - loss: 0.0610 - accuracy: 0.9919 - val_loss: 9.4222 - val_accuracy: 0.7090\n",
            "Epoch 39/100\n",
            "782/782 [==============================] - 9s 12ms/step - loss: 0.0650 - accuracy: 0.9915 - val_loss: 9.9922 - val_accuracy: 0.7044\n",
            "Epoch 40/100\n",
            "782/782 [==============================] - 9s 12ms/step - loss: 0.0670 - accuracy: 0.9917 - val_loss: 9.7927 - val_accuracy: 0.7041\n",
            "Epoch 41/100\n",
            "782/782 [==============================] - 10s 12ms/step - loss: 0.0540 - accuracy: 0.9931 - val_loss: 9.7220 - val_accuracy: 0.7132\n",
            "Epoch 42/100\n",
            "782/782 [==============================] - 9s 12ms/step - loss: 0.0485 - accuracy: 0.9937 - val_loss: 9.6865 - val_accuracy: 0.7030\n",
            "Epoch 43/100\n",
            "782/782 [==============================] - 9s 12ms/step - loss: 0.0582 - accuracy: 0.9927 - val_loss: 10.2243 - val_accuracy: 0.7128\n",
            "Epoch 44/100\n",
            "782/782 [==============================] - 9s 12ms/step - loss: 0.0667 - accuracy: 0.9915 - val_loss: 9.6933 - val_accuracy: 0.7087\n",
            "Epoch 45/100\n",
            "782/782 [==============================] - 9s 12ms/step - loss: 0.0658 - accuracy: 0.9917 - val_loss: 9.4231 - val_accuracy: 0.7080\n",
            "Epoch 46/100\n",
            "782/782 [==============================] - 10s 12ms/step - loss: 0.0522 - accuracy: 0.9931 - val_loss: 10.1058 - val_accuracy: 0.7084\n",
            "Epoch 47/100\n",
            "782/782 [==============================] - 9s 12ms/step - loss: 0.0638 - accuracy: 0.9921 - val_loss: 9.8465 - val_accuracy: 0.7036\n",
            "Epoch 48/100\n",
            "782/782 [==============================] - 9s 12ms/step - loss: 0.0508 - accuracy: 0.9936 - val_loss: 10.2631 - val_accuracy: 0.7102\n",
            "Epoch 49/100\n",
            "782/782 [==============================] - 9s 12ms/step - loss: 0.0713 - accuracy: 0.9918 - val_loss: 10.0662 - val_accuracy: 0.7065\n",
            "Epoch 50/100\n",
            "782/782 [==============================] - 9s 12ms/step - loss: 0.0601 - accuracy: 0.9929 - val_loss: 9.5338 - val_accuracy: 0.7133\n",
            "Epoch 51/100\n",
            "782/782 [==============================] - 9s 12ms/step - loss: 0.0551 - accuracy: 0.9931 - val_loss: 10.4116 - val_accuracy: 0.7051\n",
            "Epoch 52/100\n",
            "782/782 [==============================] - 9s 12ms/step - loss: 0.0591 - accuracy: 0.9932 - val_loss: 10.2774 - val_accuracy: 0.7028\n",
            "Epoch 53/100\n",
            "782/782 [==============================] - 9s 12ms/step - loss: 0.0839 - accuracy: 0.9900 - val_loss: 10.6274 - val_accuracy: 0.7104\n",
            "Epoch 54/100\n",
            "782/782 [==============================] - 9s 12ms/step - loss: 0.0547 - accuracy: 0.9933 - val_loss: 10.8496 - val_accuracy: 0.7112\n",
            "Epoch 55/100\n",
            "782/782 [==============================] - 9s 12ms/step - loss: 0.0518 - accuracy: 0.9936 - val_loss: 10.5009 - val_accuracy: 0.7094\n",
            "Epoch 56/100\n",
            "782/782 [==============================] - 9s 12ms/step - loss: 0.0773 - accuracy: 0.9910 - val_loss: 10.5584 - val_accuracy: 0.7081\n",
            "Epoch 57/100\n",
            "782/782 [==============================] - 9s 12ms/step - loss: 0.0703 - accuracy: 0.9923 - val_loss: 10.5771 - val_accuracy: 0.7001\n",
            "Epoch 58/100\n",
            "782/782 [==============================] - 9s 12ms/step - loss: 0.0588 - accuracy: 0.9932 - val_loss: 10.7681 - val_accuracy: 0.7026\n",
            "Epoch 59/100\n",
            "782/782 [==============================] - 10s 12ms/step - loss: 0.0799 - accuracy: 0.9910 - val_loss: 10.8238 - val_accuracy: 0.7075\n",
            "Epoch 60/100\n",
            "782/782 [==============================] - 9s 12ms/step - loss: 0.0600 - accuracy: 0.9934 - val_loss: 11.0289 - val_accuracy: 0.7054\n",
            "Epoch 61/100\n",
            "782/782 [==============================] - 9s 12ms/step - loss: 0.0814 - accuracy: 0.9907 - val_loss: 10.4893 - val_accuracy: 0.7028\n",
            "Epoch 62/100\n",
            "782/782 [==============================] - 9s 12ms/step - loss: 0.0559 - accuracy: 0.9932 - val_loss: 11.0134 - val_accuracy: 0.7085\n",
            "Epoch 63/100\n",
            "782/782 [==============================] - 9s 12ms/step - loss: 0.0610 - accuracy: 0.9926 - val_loss: 10.7575 - val_accuracy: 0.7075\n",
            "Epoch 64/100\n",
            "782/782 [==============================] - 9s 12ms/step - loss: 0.0739 - accuracy: 0.9921 - val_loss: 10.7299 - val_accuracy: 0.7007\n",
            "Epoch 65/100\n",
            "782/782 [==============================] - 9s 12ms/step - loss: 0.0596 - accuracy: 0.9931 - val_loss: 11.5747 - val_accuracy: 0.7008\n",
            "Epoch 66/100\n",
            "782/782 [==============================] - 9s 12ms/step - loss: 0.0654 - accuracy: 0.9923 - val_loss: 10.9723 - val_accuracy: 0.7014\n",
            "Epoch 67/100\n",
            "782/782 [==============================] - 10s 12ms/step - loss: 0.0804 - accuracy: 0.9910 - val_loss: 11.1296 - val_accuracy: 0.7133\n",
            "Epoch 68/100\n",
            "782/782 [==============================] - 10s 12ms/step - loss: 0.0605 - accuracy: 0.9930 - val_loss: 10.8435 - val_accuracy: 0.6996\n",
            "Epoch 69/100\n",
            "782/782 [==============================] - 10s 12ms/step - loss: 0.0664 - accuracy: 0.9925 - val_loss: 11.3762 - val_accuracy: 0.7010\n",
            "Epoch 70/100\n",
            "782/782 [==============================] - 9s 12ms/step - loss: 0.0766 - accuracy: 0.9922 - val_loss: 11.3569 - val_accuracy: 0.7035\n",
            "Epoch 71/100\n",
            "782/782 [==============================] - 9s 12ms/step - loss: 0.0599 - accuracy: 0.9930 - val_loss: 10.8636 - val_accuracy: 0.7084\n",
            "Epoch 72/100\n",
            "782/782 [==============================] - 9s 12ms/step - loss: 0.0557 - accuracy: 0.9934 - val_loss: 11.1198 - val_accuracy: 0.7057\n",
            "Epoch 73/100\n",
            "782/782 [==============================] - 9s 12ms/step - loss: 0.0681 - accuracy: 0.9933 - val_loss: 11.1402 - val_accuracy: 0.7031\n",
            "Epoch 74/100\n",
            "782/782 [==============================] - 9s 12ms/step - loss: 0.0754 - accuracy: 0.9915 - val_loss: 11.5640 - val_accuracy: 0.7067\n",
            "Epoch 75/100\n",
            "782/782 [==============================] - 9s 12ms/step - loss: 0.0586 - accuracy: 0.9933 - val_loss: 10.7578 - val_accuracy: 0.7022\n",
            "Epoch 76/100\n",
            "782/782 [==============================] - 9s 12ms/step - loss: 0.0529 - accuracy: 0.9938 - val_loss: 11.1249 - val_accuracy: 0.7008\n",
            "Epoch 77/100\n",
            "782/782 [==============================] - 9s 12ms/step - loss: 0.0921 - accuracy: 0.9909 - val_loss: 10.7590 - val_accuracy: 0.7022\n",
            "Epoch 78/100\n",
            "782/782 [==============================] - 9s 12ms/step - loss: 0.0499 - accuracy: 0.9941 - val_loss: 11.4000 - val_accuracy: 0.7081\n",
            "Epoch 79/100\n",
            "782/782 [==============================] - 9s 12ms/step - loss: 0.0686 - accuracy: 0.9925 - val_loss: 11.7363 - val_accuracy: 0.7077\n",
            "Epoch 80/100\n",
            "782/782 [==============================] - 9s 12ms/step - loss: 0.0862 - accuracy: 0.9911 - val_loss: 11.7369 - val_accuracy: 0.7030\n",
            "Epoch 81/100\n",
            "782/782 [==============================] - 9s 12ms/step - loss: 0.0637 - accuracy: 0.9935 - val_loss: 11.9923 - val_accuracy: 0.7017\n",
            "Epoch 82/100\n",
            "782/782 [==============================] - 9s 12ms/step - loss: 0.0664 - accuracy: 0.9930 - val_loss: 11.7146 - val_accuracy: 0.6996\n",
            "Epoch 83/100\n",
            "782/782 [==============================] - 9s 12ms/step - loss: 0.0865 - accuracy: 0.9914 - val_loss: 11.2030 - val_accuracy: 0.7039\n",
            "Epoch 84/100\n",
            "782/782 [==============================] - 9s 12ms/step - loss: 0.0714 - accuracy: 0.9923 - val_loss: 11.1681 - val_accuracy: 0.7085\n",
            "Epoch 85/100\n",
            "782/782 [==============================] - 9s 12ms/step - loss: 0.0551 - accuracy: 0.9932 - val_loss: 12.4734 - val_accuracy: 0.6961\n",
            "Epoch 86/100\n",
            "782/782 [==============================] - 9s 12ms/step - loss: 0.0684 - accuracy: 0.9932 - val_loss: 11.2856 - val_accuracy: 0.7059\n",
            "Epoch 87/100\n",
            "782/782 [==============================] - 9s 12ms/step - loss: 0.0522 - accuracy: 0.9941 - val_loss: 11.8951 - val_accuracy: 0.7041\n",
            "Epoch 88/100\n",
            "782/782 [==============================] - 9s 12ms/step - loss: 0.0760 - accuracy: 0.9918 - val_loss: 11.8633 - val_accuracy: 0.7026\n",
            "Epoch 89/100\n",
            "782/782 [==============================] - 9s 12ms/step - loss: 0.0668 - accuracy: 0.9931 - val_loss: 12.6083 - val_accuracy: 0.7084\n",
            "Epoch 90/100\n",
            "782/782 [==============================] - 9s 12ms/step - loss: 0.0654 - accuracy: 0.9932 - val_loss: 12.6358 - val_accuracy: 0.7010\n",
            "Epoch 91/100\n",
            "782/782 [==============================] - 9s 12ms/step - loss: 0.0687 - accuracy: 0.9934 - val_loss: 12.3727 - val_accuracy: 0.7046\n",
            "Epoch 92/100\n",
            "782/782 [==============================] - 9s 12ms/step - loss: 0.0693 - accuracy: 0.9923 - val_loss: 11.4249 - val_accuracy: 0.7067\n",
            "Epoch 93/100\n",
            "782/782 [==============================] - 9s 12ms/step - loss: 0.0580 - accuracy: 0.9935 - val_loss: 12.5697 - val_accuracy: 0.7106\n",
            "Epoch 94/100\n",
            "782/782 [==============================] - 9s 12ms/step - loss: 0.0727 - accuracy: 0.9930 - val_loss: 12.7789 - val_accuracy: 0.7076\n",
            "Epoch 95/100\n",
            "782/782 [==============================] - 9s 12ms/step - loss: 0.0764 - accuracy: 0.9927 - val_loss: 12.8127 - val_accuracy: 0.7013\n",
            "Epoch 96/100\n",
            "782/782 [==============================] - 9s 12ms/step - loss: 0.0767 - accuracy: 0.9928 - val_loss: 13.2336 - val_accuracy: 0.7032\n",
            "Epoch 97/100\n",
            "782/782 [==============================] - 9s 12ms/step - loss: 0.0723 - accuracy: 0.9930 - val_loss: 12.9989 - val_accuracy: 0.7024\n",
            "Epoch 98/100\n",
            "782/782 [==============================] - 9s 12ms/step - loss: 0.0760 - accuracy: 0.9925 - val_loss: 12.7786 - val_accuracy: 0.7113\n",
            "Epoch 99/100\n",
            "782/782 [==============================] - 10s 12ms/step - loss: 0.0628 - accuracy: 0.9937 - val_loss: 12.8079 - val_accuracy: 0.7085\n",
            "Epoch 100/100\n",
            "782/782 [==============================] - 10s 12ms/step - loss: 0.0681 - accuracy: 0.9936 - val_loss: 13.0226 - val_accuracy: 0.7030\n"
          ],
          "name": "stdout"
        },
        {
          "output_type": "error",
          "ename": "NameError",
          "evalue": "ignored",
          "traceback": [
            "\u001b[0;31m---------------------------------------------------------------------------\u001b[0m",
            "\u001b[0;31mNameError\u001b[0m                                 Traceback (most recent call last)",
            "\u001b[0;32m<ipython-input-24-c6016e89438b>\u001b[0m in \u001b[0;36m<module>\u001b[0;34m()\u001b[0m\n\u001b[1;32m      1\u001b[0m \u001b[0mmodel\u001b[0m\u001b[0;34m.\u001b[0m\u001b[0mfit\u001b[0m\u001b[0;34m(\u001b[0m\u001b[0mX_train\u001b[0m\u001b[0;34m,\u001b[0m\u001b[0my_train\u001b[0m\u001b[0;34m,\u001b[0m\u001b[0mbatch_size\u001b[0m\u001b[0;34m=\u001b[0m\u001b[0;36m64\u001b[0m\u001b[0;34m,\u001b[0m\u001b[0mepochs\u001b[0m\u001b[0;34m=\u001b[0m \u001b[0;36m100\u001b[0m\u001b[0;34m,\u001b[0m \u001b[0mvalidation_data\u001b[0m\u001b[0;34m=\u001b[0m\u001b[0;34m(\u001b[0m\u001b[0mX_test\u001b[0m\u001b[0;34m,\u001b[0m\u001b[0my_test\u001b[0m\u001b[0;34m)\u001b[0m\u001b[0;34m)\u001b[0m\u001b[0;34m\u001b[0m\u001b[0;34m\u001b[0m\u001b[0m\n\u001b[0;32m----> 2\u001b[0;31m \u001b[0mscore\u001b[0m \u001b[0;34m=\u001b[0m \u001b[0mmodel\u001b[0m\u001b[0;34m.\u001b[0m\u001b[0mevaluate\u001b[0m\u001b[0;34m(\u001b[0m\u001b[0mx_test\u001b[0m\u001b[0;34m,\u001b[0m \u001b[0my_test\u001b[0m\u001b[0;34m,\u001b[0m \u001b[0mverbose\u001b[0m\u001b[0;34m=\u001b[0m\u001b[0;36m0\u001b[0m\u001b[0;34m)\u001b[0m\u001b[0;34m\u001b[0m\u001b[0;34m\u001b[0m\u001b[0m\n\u001b[0m\u001b[1;32m      3\u001b[0m \u001b[0mprint\u001b[0m\u001b[0;34m(\u001b[0m\u001b[0;34m'Test loss:'\u001b[0m\u001b[0;34m,\u001b[0m \u001b[0mscore\u001b[0m\u001b[0;34m[\u001b[0m\u001b[0;36m0\u001b[0m\u001b[0;34m]\u001b[0m\u001b[0;34m)\u001b[0m\u001b[0;34m\u001b[0m\u001b[0;34m\u001b[0m\u001b[0m\n\u001b[1;32m      4\u001b[0m \u001b[0mprint\u001b[0m\u001b[0;34m(\u001b[0m\u001b[0;34m'Test accuracy:'\u001b[0m\u001b[0;34m,\u001b[0m \u001b[0mscore\u001b[0m\u001b[0;34m[\u001b[0m\u001b[0;36m1\u001b[0m\u001b[0;34m]\u001b[0m\u001b[0;34m)\u001b[0m\u001b[0;34m\u001b[0m\u001b[0;34m\u001b[0m\u001b[0m\n\u001b[1;32m      5\u001b[0m \u001b[0mmodel\u001b[0m\u001b[0;34m.\u001b[0m\u001b[0msave\u001b[0m\u001b[0;34m(\u001b[0m\u001b[0;34m'Fitmodel.h5'\u001b[0m\u001b[0;34m)\u001b[0m\u001b[0;34m\u001b[0m\u001b[0;34m\u001b[0m\u001b[0m\n",
            "\u001b[0;31mNameError\u001b[0m: name 'x_test' is not defined"
          ]
        }
      ]
    },
    {
      "cell_type": "markdown",
      "metadata": {
        "id": "igHbmMv2apBN",
        "colab_type": "text"
      },
      "source": [
        ""
      ]
    }
  ]
}